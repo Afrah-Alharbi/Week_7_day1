{
  "nbformat": 4,
  "nbformat_minor": 0,
  "metadata": {
    "colab": {
      "name": "Week_7_Project Proposal.ipynb",
      "provenance": []
    },
    "kernelspec": {
      "name": "python3",
      "display_name": "Python 3"
    },
    "language_info": {
      "name": "python"
    }
  },
  "cells": [
    {
      "cell_type": "markdown",
      "metadata": {
        "id": "6n7E5SfuDn7t"
      },
      "source": [
        "# Machine Learning in Fintech\n",
        "\n",
        "\n",
        "# Area of Fintech\n",
        "\n",
        "Lending & Credit Loan Decision\n",
        "\n",
        "\n",
        "# Dataset Researched and Located\n",
        "\n",
        "We found a dataset for P2P loans for [LendingClub](https://www.lendingclub.com/) platform. We get the data from the [Kaggle website](https://www.kaggle.com/jeandedieunyandwi/lending-club-dataset)\n",
        "\n",
        "\n",
        "# ML Use Case\n",
        "\n",
        "We are trying to build a model that would give us indication if this candidate be suitable to be given a loan\n",
        "\n",
        "\n",
        "# ML Model Selected\n",
        "\n",
        "We need a Classification model that able to perform well under unbalanced data and non-linear relation\n",
        "\n",
        "\n",
        "\n",
        "* Random Forest \n",
        "* XGBoost\n",
        "* Neural Network\n",
        "\n",
        "**Group Number**: 06\n",
        "\n",
        "**Group Name**: R.A.H\n",
        "\n",
        "**Group Members**:\n",
        "\n",
        "- Hussein Ali\n",
        "\n",
        "- Reem AlQhatani\n",
        "\n",
        "- Afrah AlHarbi\n",
        "\n",
        "- Hessah AlMatrudi\n",
        "\n",
        "- Ahmad AlGazal"
      ]
    }
  ]
}